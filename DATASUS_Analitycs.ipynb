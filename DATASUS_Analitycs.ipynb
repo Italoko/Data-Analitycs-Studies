{
  "cells": [
    {
      "cell_type": "markdown",
      "metadata": {
        "id": "MuMTzoYB_IN6"
      },
      "source": [
        "# Extraindo os dados"
      ]
    },
    {
      "cell_type": "markdown",
      "metadata": {
        "id": "zwsn2KqPLNz3"
      },
      "source": [
        "Extensão da linguagem R para rodar notebook .ipython"
      ]
    },
    {
      "cell_type": "code",
      "execution_count": null,
      "metadata": {
        "id": "NVa8rZm_0M79"
      },
      "outputs": [],
      "source": [
        "%load_ext rpy2.ipython"
      ]
    },
    {
      "cell_type": "markdown",
      "metadata": {
        "id": "9vPszGRrLXMw"
      },
      "source": [
        "Instalando pacotes necessários"
      ]
    },
    {
      "cell_type": "code",
      "execution_count": null,
      "metadata": {
        "id": "i9cLhwRhACRM"
      },
      "outputs": [],
      "source": [
        "%%R\n",
        "\n",
        "#Usado p/ manipular files/dir\n",
        "if(!require('icesTAF')) {\n",
        "    install.packages('icesTAF')\n",
        "    library('icesTAF')\n",
        "}\n",
        "\n",
        "#Usado p/ manipular lib microdatasus\n",
        "install.packages('remotes')\n",
        "remotes::install_github(\"rfsaldanha/microdatasus\")\n",
        "library(microdatasus)"
      ]
    },
    {
      "cell_type": "markdown",
      "metadata": {
        "id": "T1XGLyLbLp0k"
      },
      "source": [
        "Fazendo download dos dados do DATASUS"
      ]
    },
    {
      "cell_type": "code",
      "execution_count": null,
      "metadata": {
        "colab": {
          "background_save": true,
          "base_uri": "https://localhost:8080/"
        },
        "id": "3Za7CCsLTQhs",
        "outputId": "0a0a11e6-e906-4b09-f5af-beb88debe680"
      },
      "outputs": [
        {
          "name": "stderr",
          "output_type": "stream",
          "text": [
            "R[write to console]: Your local Internet connection seems to be ok.\n",
            "\n",
            "R[write to console]: DataSUS FTP server seems to be up. Starting download...\n",
            "\n",
            "R[write to console]: trying URL 'ftp://ftp.datasus.gov.br/dissemin/publicos/SIM/CID10/DORES/DOSP2014.dbc'\n",
            "\n",
            "R[write to console]: Content type 'unknown'\n",
            "R[write to console]:  length 30023866 bytes (28.6 MB)\n",
            "\n",
            "R[write to console]: =\n",
            "R[write to console]: =\n",
            "R[write to console]: =\n",
            "R[write to console]: =\n",
            "R[write to console]: =\n",
            "R[write to console]: =\n",
            "R[write to console]: =\n",
            "R[write to console]: =\n",
            "R[write to console]: =\n",
            "R[write to console]: =\n",
            "R[write to console]: =\n",
            "R[write to console]: =\n",
            "R[write to console]: =\n",
            "R[write to console]: =\n",
            "R[write to console]: =\n",
            "R[write to console]: =\n",
            "R[write to console]: =\n",
            "R[write to console]: =\n",
            "R[write to console]: =\n",
            "R[write to console]: =\n",
            "R[write to console]: =\n",
            "R[write to console]: =\n",
            "R[write to console]: =\n",
            "R[write to console]: =\n",
            "R[write to console]: =\n",
            "R[write to console]: =\n",
            "R[write to console]: =\n",
            "R[write to console]: =\n",
            "R[write to console]: =\n",
            "R[write to console]: =\n",
            "R[write to console]: =\n",
            "R[write to console]: =\n",
            "R[write to console]: =\n",
            "R[write to console]: =\n",
            "R[write to console]: =\n",
            "R[write to console]: =\n",
            "R[write to console]: =\n",
            "R[write to console]: =\n",
            "R[write to console]: =\n",
            "R[write to console]: =\n",
            "R[write to console]: =\n",
            "R[write to console]: =\n",
            "R[write to console]: =\n",
            "R[write to console]: =\n",
            "R[write to console]: =\n",
            "R[write to console]: =\n",
            "R[write to console]: =\n",
            "R[write to console]: =\n",
            "R[write to console]: =\n",
            "R[write to console]: =\n",
            "R[write to console]: \n",
            "\n",
            "R[write to console]: trying URL 'ftp://ftp.datasus.gov.br/dissemin/publicos/SIM/CID10/DORES/DOSP2015.dbc'\n",
            "\n",
            "R[write to console]: Content type 'unknown'\n",
            "R[write to console]:  length 27098758 bytes (25.8 MB)\n",
            "\n",
            "R[write to console]: =\n",
            "R[write to console]: =\n",
            "R[write to console]: =\n",
            "R[write to console]: =\n",
            "R[write to console]: =\n",
            "R[write to console]: =\n",
            "R[write to console]: =\n",
            "R[write to console]: =\n",
            "R[write to console]: =\n",
            "R[write to console]: =\n",
            "R[write to console]: =\n",
            "R[write to console]: =\n",
            "R[write to console]: =\n",
            "R[write to console]: =\n",
            "R[write to console]: =\n",
            "R[write to console]: =\n",
            "R[write to console]: =\n",
            "R[write to console]: =\n",
            "R[write to console]: =\n",
            "R[write to console]: =\n",
            "R[write to console]: =\n",
            "R[write to console]: =\n",
            "R[write to console]: =\n",
            "R[write to console]: =\n",
            "R[write to console]: =\n",
            "R[write to console]: =\n",
            "R[write to console]: =\n",
            "R[write to console]: =\n",
            "R[write to console]: =\n",
            "R[write to console]: =\n",
            "R[write to console]: =\n",
            "R[write to console]: =\n",
            "R[write to console]: =\n",
            "R[write to console]: =\n",
            "R[write to console]: =\n",
            "R[write to console]: =\n",
            "R[write to console]: =\n",
            "R[write to console]: =\n",
            "R[write to console]: =\n",
            "R[write to console]: =\n",
            "R[write to console]: =\n",
            "R[write to console]: =\n",
            "R[write to console]: =\n",
            "R[write to console]: =\n",
            "R[write to console]: =\n",
            "R[write to console]: =\n",
            "R[write to console]: =\n",
            "R[write to console]: =\n",
            "R[write to console]: =\n",
            "R[write to console]: =\n",
            "R[write to console]: \n",
            "\n"
          ]
        }
      ],
      "source": [
        "%%R\n",
        "\n",
        "dados <- fetch_datasus(year_start = 2014, year_end = 2015, uf = \"SP\", information_system = \"SIM-DO\")\n",
        "dados <- process_sim(dados)"
      ]
    },
    {
      "cell_type": "markdown",
      "metadata": {
        "id": "xek_rpOhvVVi"
      },
      "source": [
        "Armazenando arquivo em CSV na pasta do projeto <br>\n",
        "*    `folder` = Nome da pasta onde será armazenado;\n",
        "*    `data_name_csv` = Nome do arquivo CSV;\n",
        "*    `path` = Path completo da pasta  + nome do arq.csv;"
      ]
    },
    {
      "cell_type": "code",
      "execution_count": null,
      "metadata": {
        "colab": {
          "background_save": true
        },
        "id": "o42FzhmpYOv_",
        "outputId": "777627fe-ead9-4132-ac63-1dbe03dc090a"
      },
      "outputs": [
        {
          "name": "stdout",
          "output_type": "stream",
          "text": [
            "[1] \"Download concluído.\"\n"
          ]
        }
      ],
      "source": [
        "%%R\n",
        "\n",
        "folder <- \"/content/sample_data/DATASUS_SIM\"\n",
        "data_name_csv <- \"datasus_sim.csv\"\n",
        "path <- paste(folder,data_name_csv,sep=\"/\")\n",
        "\n",
        "dir.create(file.path(folder), showWarnings = FALSE)\n",
        "write.csv(dados, file = path)\n",
        "\n",
        "print(\"Download concluído.\")"
      ]
    },
    {
      "cell_type": "markdown",
      "metadata": {
        "id": "APwnmfT5T-tx"
      },
      "source": [
        "# Carregando CSV -> Dataframe PY"
      ]
    },
    {
      "cell_type": "markdown",
      "metadata": {
        "id": "9iPeCiUSU5bK"
      },
      "source": [
        "Importando libs"
      ]
    },
    {
      "cell_type": "code",
      "execution_count": null,
      "metadata": {
        "id": "HIJXFexIULvF"
      },
      "outputs": [],
      "source": [
        "import pandas as pd "
      ]
    },
    {
      "cell_type": "markdown",
      "metadata": {
        "id": "6OHn-zr-iZP3"
      },
      "source": [
        "Carregando dataset inteiro"
      ]
    },
    {
      "cell_type": "code",
      "execution_count": null,
      "metadata": {
        "id": "NZKXYN7ZU_Rg"
      },
      "outputs": [],
      "source": [
        "path = '/content/sample_data/DATASUS_SIM/datasus_sim.csv'\n",
        "#df_data = pd.read_csv(path, nrows= 200)\n",
        "df_data = pd.read_csv(path)"
      ]
    },
    {
      "cell_type": "markdown",
      "metadata": {
        "id": "iBS54rNVExD7"
      },
      "source": [
        "# Análise"
      ]
    },
    {
      "cell_type": "markdown",
      "metadata": {
        "id": "5O8d-JRnicqp"
      },
      "source": [
        "## Preparando subset com as colunas de interesse"
      ]
    },
    {
      "cell_type": "code",
      "execution_count": null,
      "metadata": {
        "id": "7DVBgFZWdIk7"
      },
      "outputs": [],
      "source": [
        "columns = ['CIRCOBITO', 'SEXO', 'ESTCIV', 'OCUP', 'CAUSABAS', 'CAUSABAS_O',\\\n",
        "           'ACIDTRAB', 'FONTE', 'IDADEanos', 'munResNome', 'LOCOCOR']\n",
        "\n",
        "df_subset = df_data[columns]"
      ]
    },
    {
      "cell_type": "code",
      "execution_count": null,
      "metadata": {
        "id": "wxbF7BOIimfA"
      },
      "outputs": [],
      "source": [
        "new_names = {\n",
        "    'IDADEanos': 'IDADE',\n",
        "    'munResNome': 'MUNICIPIO'\n",
        "}\n",
        "df_subset = df_subset.rename(columns = new_names)"
      ]
    },
    {
      "cell_type": "markdown",
      "metadata": {
        "id": "xOan4eHsDGGQ"
      },
      "source": [
        "### Média de idades com relação a circunstância do óbito x Cidades."
      ]
    },
    {
      "cell_type": "code",
      "execution_count": null,
      "metadata": {
        "id": "DBNRa-ELfjwY"
      },
      "outputs": [],
      "source": [
        "def rel_circobito_muni(df, muni, circ_obito):\n",
        "    columns2_group = ['MUNICIPIO', 'CIRCOBITO','IDADE']\n",
        "    return df[columns2_group][dftest['MUNICIPIO'].isin(muni) & dftest['CIRCOBITO'].isin(circ_obito)]"
      ]
    },
    {
      "cell_type": "markdown",
      "metadata": {
        "id": "uWS_HkX-Fq8s"
      },
      "source": [
        "Média da idade de mortes por `circ_obito[]` na(s) `cidades[]`"
      ]
    },
    {
      "cell_type": "code",
      "execution_count": null,
      "metadata": {
        "id": "QH9fQnRv_N2W"
      },
      "outputs": [],
      "source": [
        "cidades = ['Londrina', 'Apucarana']\n",
        "circ_obito = ['Acidente']\n",
        "\n",
        "rel_circobito_muni(df_subset, cidades, circ_obito).groupby(['MUNICIPIO']).mean()\n"
      ]
    },
    {
      "cell_type": "markdown",
      "metadata": {
        "id": "4YXNgRT8GyYI"
      },
      "source": [
        "Média da idade de mortes de cada municipio"
      ]
    },
    {
      "cell_type": "code",
      "execution_count": null,
      "metadata": {
        "id": "7i0kgB6CC0eI"
      },
      "outputs": [],
      "source": [
        "cidades = df_subset['MUNICIPIO']\n",
        "circ_obito = ['Acidente']\n",
        "\n",
        "rel_circobito_muni(df_subset, cidades, circ_obito).groupby(['MUNICIPIO']).mean()\n"
      ]
    },
    {
      "cell_type": "markdown",
      "metadata": {
        "id": "vnSRqFf_ECcU"
      },
      "source": [
        "### Média de idades com relação de cada circunstâncias de óbito.\n"
      ]
    },
    {
      "cell_type": "code",
      "execution_count": null,
      "metadata": {
        "id": "yW7_qlZwDlNn"
      },
      "outputs": [],
      "source": [
        "cidades = ['Londrina']\n",
        "circ_obito = df_subset['CIRCOBITO']\n",
        "\n",
        "rel_circobito_muni(df_subset, cidades, circ_obito).groupby(['CIRCOBITO']).mean()\n"
      ]
    },
    {
      "cell_type": "markdown",
      "metadata": {
        "id": "9uqKCOo3JwdF"
      },
      "source": [
        "### Menor e Maior de idades com relação de cada circunstâncias de óbito.\n"
      ]
    },
    {
      "cell_type": "code",
      "execution_count": null,
      "metadata": {
        "id": "ee06bYmdJQHG"
      },
      "outputs": [],
      "source": [
        "cidades = ['Londrina']\n",
        "circ_obito = df_subset['CIRCOBITO']\n",
        "\n",
        "rel_circobito_muni(df_subset, cidades, circ_obito).groupby(['CIRCOBITO']).min()"
      ]
    },
    {
      "cell_type": "code",
      "execution_count": null,
      "metadata": {
        "id": "qrrwicvbJ11P"
      },
      "outputs": [],
      "source": [
        "cidades = ['Londrina']\n",
        "circ_obito = df_subset['CIRCOBITO']\n",
        "\n",
        "rel_circobito_muni(df_subset, cidades, circ_obito).groupby(['CIRCOBITO']).max()"
      ]
    },
    {
      "cell_type": "markdown",
      "metadata": {
        "id": "osUJJ6nJKPKR"
      },
      "source": [
        "### Total, Menor, Maior, desv padrão, média de idades com relação de cada circunstâncias de óbito"
      ]
    },
    {
      "cell_type": "code",
      "execution_count": null,
      "metadata": {
        "id": "jYvACKkeKJEA"
      },
      "outputs": [],
      "source": [
        "cidades = ['Londrina']\n",
        "circ_obito = df_subset['CIRCOBITO']\n",
        "\n",
        "rel_circobito_muni(df_subset, cidades, circ_obito).groupby(['CIRCOBITO']).describe()"
      ]
    }
  ],
  "metadata": {
    "colab": {
      "name": "DATASUS Analitycs.ipynb",
      "provenance": []
    },
    "kernelspec": {
      "display_name": "Python 3",
      "name": "python3"
    },
    "language_info": {
      "name": "python"
    }
  },
  "nbformat": 4,
  "nbformat_minor": 0
}